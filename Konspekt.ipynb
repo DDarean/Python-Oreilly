{
 "cells": [
  {
   "cell_type": "markdown",
   "metadata": {},
   "source": [
    "Модуль os - взаимодействие с операционной системой  \n",
    "Модуль sys - информация о системе  \n",
    "Модули datetime, time - дата/время и т.д.  "
   ]
  },
  {
   "cell_type": "code",
   "execution_count": 1,
   "metadata": {
    "collapsed": true
   },
   "outputs": [],
   "source": [
    "import datetime"
   ]
  },
  {
   "cell_type": "code",
   "execution_count": 3,
   "metadata": {},
   "outputs": [
    {
     "data": {
      "text/plain": [
       "datetime.date(2019, 1, 20)"
      ]
     },
     "execution_count": 3,
     "metadata": {},
     "output_type": "execute_result"
    }
   ],
   "source": [
    "datetime.date.today()"
   ]
  },
  {
   "cell_type": "code",
   "execution_count": 5,
   "metadata": {
    "collapsed": true
   },
   "outputs": [],
   "source": [
    "import time"
   ]
  },
  {
   "cell_type": "code",
   "execution_count": 6,
   "metadata": {},
   "outputs": [
    {
     "data": {
      "text/plain": [
       "'03:24'"
      ]
     },
     "execution_count": 6,
     "metadata": {},
     "output_type": "execute_result"
    }
   ],
   "source": [
    "time.strftime(\"%I:%M\")"
   ]
  },
  {
   "cell_type": "markdown",
   "metadata": {},
   "source": [
    "import HTML  \n",
    ".escape - экранирует теги  \n",
    ".unescepe - возвращает исходное состояние  "
   ]
  },
  {
   "cell_type": "markdown",
   "metadata": {},
   "source": [
    "pypi.python.org - репозиторий сообщества Python"
   ]
  },
  {
   "cell_type": "markdown",
   "metadata": {},
   "source": [
    "Списки в Python обозначаются квадратными скобками []"
   ]
  },
  {
   "cell_type": "markdown",
   "metadata": {},
   "source": [
    "Оператор in - проверяет находится ли что-то одно внутри другого"
   ]
  },
  {
   "cell_type": "code",
   "execution_count": 7,
   "metadata": {},
   "outputs": [
    {
     "name": "stdout",
     "output_type": "stream",
     "text": [
      "ODD\n"
     ]
    }
   ],
   "source": [
    "from datetime import datetime\n",
    "\n",
    "odds = [1,3,5,6,9,11,13,15,17,19,21,23,25,27,29,\n",
    "        31,33,35,37,39,41,43,45,47,49,51,53,55,57,59]\n",
    "\n",
    "right_this_minute = datetime.today().minute\n",
    "\n",
    "if right_this_minute in odds:\n",
    "    print(\"ODD\")\n",
    "else:\n",
    "    print(\"Not an ODD\")\n"
   ]
  },
  {
   "cell_type": "markdown",
   "metadata": {},
   "source": [
    "if:  \n",
    ">111  \n",
    "\n",
    "elif:  \n",
    ">222\n",
    "\n",
    "else:  \n",
    ">333"
   ]
  },
  {
   "cell_type": "code",
   "execution_count": 15,
   "metadata": {},
   "outputs": [
    {
     "name": "stdout",
     "output_type": "stream",
     "text": [
      "Not an ODD\n",
      "Not an ODD\n",
      "ODD\n",
      "ODD\n",
      "ODD\n"
     ]
    }
   ],
   "source": [
    "from datetime import datetime\n",
    "import time\n",
    "\n",
    "odds = [1,3,5,6,9,11,13,15,17,19,21,23,25,27,29,\n",
    "        31,33,35,37,39,41,43,45,47,49,51,53,55,57,59]\n",
    "\n",
    "\n",
    "for i in range(5):\n",
    "    \n",
    "    right_this_minute = datetime.today().minute\n",
    "    if right_this_minute in odds:\n",
    "        print(\"ODD\")\n",
    "    else:\n",
    "        print(\"Not an ODD\")\n",
    "    time.sleep(random.randint(1,5))"
   ]
  },
  {
   "cell_type": "markdown",
   "metadata": {},
   "source": [
    "Отступ для целого абзаца: выделить + TAB, выделить + ctrl + [ или ]"
   ]
  },
  {
   "cell_type": "markdown",
   "metadata": {},
   "source": [
    "import random  \n",
    "dir(random)  \n",
    "полный список доступных атрибутов"
   ]
  },
  {
   "cell_type": "code",
   "execution_count": 13,
   "metadata": {},
   "outputs": [
    {
     "name": "stdout",
     "output_type": "stream",
     "text": [
      "Help on method randint in module random:\n",
      "\n",
      "randint(a, b) method of random.Random instance\n",
      "    Return random integer in range [a, b], including both end points.\n",
      "\n"
     ]
    }
   ],
   "source": [
    "help(random.randint)"
   ]
  },
  {
   "cell_type": "markdown",
   "metadata": {
    "collapsed": true
   },
   "source": [
    "Список: упорядоченная коллекция объектов (как массив в других языках) - [1,2,3]  \n",
    "Кортеж: неизменяемый список  \n",
    "Словарь: неупорядоченная коллекция ключ:объект  \n",
    "Множество: структура данных без дублей"
   ]
  },
  {
   "cell_type": "markdown",
   "metadata": {},
   "source": [
    "Литеральный список - список, который заполняется в коде"
   ]
  },
  {
   "cell_type": "code",
   "execution_count": 3,
   "metadata": {},
   "outputs": [
    {
     "name": "stdout",
     "output_type": "stream",
     "text": [
      "[1, 2, 3, 4]\n"
     ]
    }
   ],
   "source": [
    "spisok = [1,2,3,4]\n",
    "print (spisok)"
   ]
  },
  {
   "cell_type": "code",
   "execution_count": 1,
   "metadata": {},
   "outputs": [
    {
     "name": "stdout",
     "output_type": "stream",
     "text": [
      "word: check it out\n",
      "e\n",
      "i\n",
      "o\n",
      "u\n"
     ]
    }
   ],
   "source": [
    "vowels = ['a','e','i','o','u']\n",
    "word = input(\"word: \")\n",
    "found = []\n",
    "\n",
    "for letter in word:\n",
    "    if letter in vowels:\n",
    "        if letter not in found:\n",
    "            found.append(letter)\n",
    "for vowel in found:\n",
    "    print(vowel)\n"
   ]
  },
  {
   "cell_type": "code",
   "execution_count": 8,
   "metadata": {},
   "outputs": [
    {
     "name": "stdout",
     "output_type": "stream",
     "text": [
      "word: check it out\n",
      "e\n",
      "i\n",
      "o\n",
      "u\n"
     ]
    }
   ],
   "source": [
    "vowels = ['a','e','i','o','u']\n",
    "word = input(\"word: \")\n",
    "found = []\n",
    "\n",
    "for letter in word:\n",
    "    if ((letter in vowels) and (letter not in found)):\n",
    "        found.append(letter)\n",
    "for vowel in found:\n",
    "    print(vowel)"
   ]
  },
  {
   "cell_type": "markdown",
   "metadata": {},
   "source": [
    "### Работа с объектами списка"
   ]
  },
  {
   "cell_type": "markdown",
   "metadata": {},
   "source": [
    "1. Метод remove - удаляет первое вхождение указанного значения из списка.  \n",
    "massiv.remove(3) - ищет значение 3 (это не индекс) и удаляет \n",
    "  \n",
    "2. Метод pop - удаляет из списка и возвращает объект по индексу. Если вызвать буз индекса, удаляет последний элемент.\n",
    "massiv.pop() - можно присвоить переменной, если не присвоить - удаляется из памяти  \n",
    "  \n",
    "3. Метод extend - метод принимает список и добавляет его в существующий список (в конец)  \n",
    "  \n",
    "4. Метод insert - вставляет объект в существующий список перед объектом с указанным индексом  \n",
    "  \n",
    "5. help(list) - другие методы работы со списками"
   ]
  },
  {
   "cell_type": "code",
   "execution_count": 16,
   "metadata": {},
   "outputs": [
    {
     "name": "stdout",
     "output_type": "stream",
     "text": [
      "[1, 3, 5]\n",
      "[1, 5]\n",
      "[1, 5, 1, 1, 1, 1, 1]\n",
      "[1, 5, 1, 'Первый аргумент это индекс', 1, 1, 1, 1]\n"
     ]
    }
   ],
   "source": [
    "massiv = [1,3,5,6]\n",
    "dop = [1,1,1,1,1]\n",
    "\n",
    "massiv.remove(6)\n",
    "print(massiv)\n",
    "\n",
    "massiv.pop(1)\n",
    "print(massiv)\n",
    "\n",
    "massiv.extend(dop)\n",
    "print(massiv)\n",
    "\n",
    "massiv.insert(3,\"Первый аргумент это индекс\")\n",
    "print(massiv)"
   ]
  },
  {
   "cell_type": "markdown",
   "metadata": {},
   "source": [
    "Для копирования списков не стоит использовать оператор присваивания, т.к. списки будут связаны (переменные будут ссылаться на одни и те же данные).  \n",
    "  \n",
    "massiv.copy() - copy - это метод для копирования массивов"
   ]
  },
  {
   "cell_type": "markdown",
   "metadata": {},
   "source": [
    "#### Работа со списками"
   ]
  },
  {
   "cell_type": "markdown",
   "metadata": {},
   "source": [
    "massiv[start:stop:step] - создание среза. По умолчанию start = 0, stop - последний элемент массива, step = 1"
   ]
  },
  {
   "cell_type": "code",
   "execution_count": 17,
   "metadata": {},
   "outputs": [
    {
     "name": "stdout",
     "output_type": "stream",
     "text": [
      "\t M\n",
      "\t a\n",
      "\t r\n",
      "\t v\n",
      "\t i\n",
      "\t n\n",
      "\t\t A\n",
      "\t\t n\n",
      "\t\t d\n",
      "\t\t r\n",
      "\t\t o\n",
      "\t\t i\n",
      "\t\t d\n",
      "\t\t\t P\n",
      "\t\t\t a\n",
      "\t\t\t r\n",
      "\t\t\t a\n",
      "\t\t\t n\n",
      "\t\t\t o\n",
      "\t\t\t i\n",
      "\t\t\t d\n"
     ]
    }
   ],
   "source": [
    "paranoid_android_2 = \"Marvin, the Paranoid Android\"\n",
    "letters_2 = list(paranoid_android_2)\n",
    "\n",
    "for char_2 in letters_2[:6]:\n",
    "    print('\\t', char_2)\n",
    "for char_2 in letters_2[-7:]:\n",
    "    print('\\t'*2, char_2)\n",
    "for char_2 in letters_2[12:20]:\n",
    "    print('\\t'*3, char_2)"
   ]
  },
  {
   "cell_type": "code",
   "execution_count": null,
   "metadata": {
    "collapsed": true
   },
   "outputs": [],
   "source": []
  }
 ],
 "metadata": {
  "kernelspec": {
   "display_name": "Python 3",
   "language": "python",
   "name": "python3"
  },
  "language_info": {
   "codemirror_mode": {
    "name": "ipython",
    "version": 3
   },
   "file_extension": ".py",
   "mimetype": "text/x-python",
   "name": "python",
   "nbconvert_exporter": "python",
   "pygments_lexer": "ipython3",
   "version": "3.6.3"
  }
 },
 "nbformat": 4,
 "nbformat_minor": 2
}
